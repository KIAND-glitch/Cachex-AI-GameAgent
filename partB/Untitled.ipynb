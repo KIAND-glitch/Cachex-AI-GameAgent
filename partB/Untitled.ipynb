{
 "cells": [
  {
   "cell_type": "code",
   "execution_count": 73,
   "id": "e61ff99b",
   "metadata": {},
   "outputs": [],
   "source": [
    "import numpy as np"
   ]
  },
  {
   "cell_type": "code",
   "execution_count": 74,
   "id": "65b0399e",
   "metadata": {},
   "outputs": [],
   "source": [
    "with open(\"log.txt\") as f:\n",
    "    data = []\n",
    "    lines = f.readlines()\n",
    "    for line in lines[:-1]:\n",
    "        data.append(np.array(line[1:-2].split(\" \")).astype(int))"
   ]
  },
  {
   "cell_type": "code",
   "execution_count": 75,
   "id": "24691f36",
   "metadata": {},
   "outputs": [],
   "source": [
    "data = np.array(data)"
   ]
  },
  {
   "cell_type": "code",
   "execution_count": 76,
   "id": "61ae4618",
   "metadata": {},
   "outputs": [
    {
     "data": {
      "text/plain": [
       "(69017, 25)"
      ]
     },
     "execution_count": 76,
     "metadata": {},
     "output_type": "execute_result"
    }
   ],
   "source": [
    "data.shape"
   ]
  },
  {
   "cell_type": "code",
   "execution_count": 77,
   "id": "55b7d670",
   "metadata": {},
   "outputs": [],
   "source": [
    "data = np.unique(data, axis=0)"
   ]
  },
  {
   "cell_type": "code",
   "execution_count": 78,
   "id": "d47483ce",
   "metadata": {},
   "outputs": [
    {
     "data": {
      "text/plain": [
       "(63375, 25)"
      ]
     },
     "execution_count": 78,
     "metadata": {},
     "output_type": "execute_result"
    }
   ],
   "source": [
    "data.shape"
   ]
  },
  {
   "cell_type": "code",
   "execution_count": 79,
   "id": "e598ed50",
   "metadata": {},
   "outputs": [],
   "source": [
    "from minimax_agent.evaluation import evaluation"
   ]
  },
  {
   "cell_type": "code",
   "execution_count": 81,
   "id": "28d47915",
   "metadata": {
    "scrolled": true
   },
   "outputs": [
    {
     "name": "stdout",
     "output_type": "stream",
     "text": [
      "0\n",
      "1000\n",
      "2000\n",
      "3000\n",
      "4000\n",
      "5000\n",
      "6000\n",
      "7000\n",
      "8000\n",
      "9000\n",
      "10000\n",
      "11000\n",
      "12000\n",
      "13000\n",
      "14000\n",
      "15000\n",
      "16000\n",
      "17000\n",
      "18000\n",
      "19000\n",
      "20000\n",
      "21000\n",
      "22000\n",
      "23000\n",
      "24000\n",
      "25000\n",
      "26000\n",
      "27000\n",
      "28000\n",
      "29000\n",
      "30000\n",
      "31000\n",
      "32000\n",
      "33000\n",
      "34000\n",
      "35000\n",
      "36000\n",
      "37000\n",
      "38000\n",
      "39000\n",
      "40000\n",
      "41000\n",
      "42000\n",
      "43000\n",
      "44000\n",
      "45000\n",
      "46000\n",
      "47000\n",
      "48000\n",
      "49000\n",
      "50000\n",
      "51000\n",
      "52000\n",
      "53000\n",
      "54000\n",
      "55000\n",
      "56000\n",
      "57000\n",
      "58000\n",
      "59000\n",
      "60000\n",
      "61000\n",
      "62000\n",
      "63000\n"
     ]
    }
   ],
   "source": [
    "score = []\n",
    "for i, row in enumerate(data):\n",
    "    if i % 1000 == 0:\n",
    "        print(i)\n",
    "    score.append(evaluation(np.reshape(row, (5,5)), 5))"
   ]
  },
  {
   "cell_type": "code",
   "execution_count": 83,
   "id": "e6e80530",
   "metadata": {},
   "outputs": [],
   "source": [
    "score = np.array(score)"
   ]
  },
  {
   "cell_type": "code",
   "execution_count": 85,
   "id": "1d278333",
   "metadata": {},
   "outputs": [],
   "source": [
    "# np.save('score.npy', score)"
   ]
  },
  {
   "cell_type": "code",
   "execution_count": 86,
   "id": "7a68e306",
   "metadata": {},
   "outputs": [
    {
     "data": {
      "text/plain": [
       "Counter({1.0: 16216,\n",
       "         0.0: 23016,\n",
       "         -1.0: 11392,\n",
       "         2.0: 5196,\n",
       "         -2.0: 3570,\n",
       "         -3.0: 719,\n",
       "         3.0: 1050,\n",
       "         4.0: 149,\n",
       "         -inf: 900,\n",
       "         inf: 1050,\n",
       "         5.0: 13,\n",
       "         -4.0: 91,\n",
       "         -6.0: 1,\n",
       "         -5.0: 9,\n",
       "         6.0: 3})"
      ]
     },
     "execution_count": 86,
     "metadata": {},
     "output_type": "execute_result"
    }
   ],
   "source": [
    "import collections\n",
    "\n",
    "collections.Counter(score)"
   ]
  },
  {
   "cell_type": "code",
   "execution_count": 87,
   "id": "ee632bfd",
   "metadata": {},
   "outputs": [
    {
     "data": {
      "text/plain": [
       "(63375,)"
      ]
     },
     "execution_count": 87,
     "metadata": {},
     "output_type": "execute_result"
    }
   ],
   "source": [
    "score.shape"
   ]
  },
  {
   "cell_type": "code",
   "execution_count": 88,
   "id": "685aa032",
   "metadata": {},
   "outputs": [],
   "source": [
    "X = data\n",
    "y = score"
   ]
  },
  {
   "cell_type": "code",
   "execution_count": 89,
   "id": "56951ccd",
   "metadata": {},
   "outputs": [],
   "source": [
    "y = np.where(score==np.inf, 0, y)\n",
    "y = np.where(score==-np.inf, 0, y)"
   ]
  },
  {
   "cell_type": "code",
   "execution_count": 90,
   "id": "8848b9b0",
   "metadata": {},
   "outputs": [
    {
     "data": {
      "text/plain": [
       "Counter({1.0: 16216,\n",
       "         0.0: 24966,\n",
       "         -1.0: 11392,\n",
       "         2.0: 5196,\n",
       "         -2.0: 3570,\n",
       "         -3.0: 719,\n",
       "         3.0: 1050,\n",
       "         4.0: 149,\n",
       "         5.0: 13,\n",
       "         -4.0: 91,\n",
       "         -6.0: 1,\n",
       "         -5.0: 9,\n",
       "         6.0: 3})"
      ]
     },
     "execution_count": 90,
     "metadata": {},
     "output_type": "execute_result"
    }
   ],
   "source": [
    "collections.Counter(y)"
   ]
  },
  {
   "cell_type": "code",
   "execution_count": 96,
   "id": "8ae896c8",
   "metadata": {},
   "outputs": [
    {
     "name": "stdout",
     "output_type": "stream",
     "text": [
      "(50700, 25)\n",
      "(50700,)\n"
     ]
    }
   ],
   "source": [
    "from sklearn.model_selection import train_test_split\n",
    "\n",
    "X_train, X_test, y_train, y_test = train_test_split(X, y, test_size=0.2, random_state=42)\n",
    "\n",
    "print(X_train.shape)\n",
    "print(y_train.shape)"
   ]
  },
  {
   "cell_type": "code",
   "execution_count": 92,
   "id": "5f9241aa",
   "metadata": {},
   "outputs": [],
   "source": [
    "from tensorflow import keras"
   ]
  },
  {
   "cell_type": "code",
   "execution_count": 139,
   "id": "97a14ddb",
   "metadata": {},
   "outputs": [],
   "source": [
    "model = keras.Sequential(\n",
    "    [\n",
    "        keras.Input(shape=(25,)),\n",
    "        keras.layers.Dense(64, kernel_initializer='random_normal', activation=\"relu\"),\n",
    "        keras.layers.Dense(64, kernel_initializer='random_normal', activation=\"relu\"),\n",
    "        keras.layers.Dense(64, kernel_initializer='random_normal', activation=\"relu\"),\n",
    "        keras.layers.Dense(32, kernel_initializer='random_normal', activation=\"relu\"),\n",
    "        keras.layers.Dense(16, kernel_initializer='random_normal', activation=\"relu\"),\n",
    "        keras.layers.Dense(1)\n",
    "    ]\n",
    ")\n",
    "\n",
    "model.compile(\n",
    "    loss=keras.losses.MeanSquaredError(),\n",
    "    optimizer=keras.optimizers.Adam(learning_rate=0.01),\n",
    "    metrics=[\"accuracy\"],\n",
    ")"
   ]
  },
  {
   "cell_type": "code",
   "execution_count": 140,
   "id": "8a50d309",
   "metadata": {},
   "outputs": [
    {
     "name": "stdout",
     "output_type": "stream",
     "text": [
      "Epoch 1/20\n",
      "634/634 [==============================] - 1s 2ms/step - loss: 1.2989 - accuracy: 0.3934 - val_loss: 1.2694 - val_accuracy: 0.3905\n",
      "Epoch 2/20\n",
      "634/634 [==============================] - 1s 2ms/step - loss: 1.2984 - accuracy: 0.3933 - val_loss: 1.2685 - val_accuracy: 0.3905\n",
      "Epoch 3/20\n",
      "634/634 [==============================] - 1s 2ms/step - loss: 1.2983 - accuracy: 0.3933 - val_loss: 1.2680 - val_accuracy: 0.3905\n",
      "Epoch 4/20\n",
      "634/634 [==============================] - 1s 2ms/step - loss: 1.2984 - accuracy: 0.3933 - val_loss: 1.2682 - val_accuracy: 0.3905\n",
      "Epoch 5/20\n",
      "634/634 [==============================] - 1s 2ms/step - loss: 1.2984 - accuracy: 0.3933 - val_loss: 1.2681 - val_accuracy: 0.3905\n",
      "Epoch 6/20\n",
      "634/634 [==============================] - 1s 2ms/step - loss: 1.2988 - accuracy: 0.3933 - val_loss: 1.2682 - val_accuracy: 0.3905\n",
      "Epoch 7/20\n",
      "634/634 [==============================] - 1s 2ms/step - loss: 1.2985 - accuracy: 0.3933 - val_loss: 1.2680 - val_accuracy: 0.3905\n",
      "Epoch 8/20\n",
      "634/634 [==============================] - 1s 2ms/step - loss: 1.2982 - accuracy: 0.3933 - val_loss: 1.2701 - val_accuracy: 0.3905\n",
      "Epoch 9/20\n",
      "634/634 [==============================] - 1s 2ms/step - loss: 1.2982 - accuracy: 0.3933 - val_loss: 1.2705 - val_accuracy: 0.3905\n",
      "Epoch 10/20\n",
      "634/634 [==============================] - 1s 2ms/step - loss: 1.2981 - accuracy: 0.3933 - val_loss: 1.2687 - val_accuracy: 0.3905\n",
      "Epoch 11/20\n",
      "634/634 [==============================] - 1s 2ms/step - loss: 1.2983 - accuracy: 0.3933 - val_loss: 1.2680 - val_accuracy: 0.3905\n",
      "Epoch 12/20\n",
      "634/634 [==============================] - 1s 2ms/step - loss: 1.2983 - accuracy: 0.3933 - val_loss: 1.2689 - val_accuracy: 0.3905\n",
      "Epoch 13/20\n",
      "634/634 [==============================] - 1s 2ms/step - loss: 1.2984 - accuracy: 0.3933 - val_loss: 1.2689 - val_accuracy: 0.3905\n",
      "Epoch 14/20\n",
      "634/634 [==============================] - 1s 2ms/step - loss: 1.2984 - accuracy: 0.3933 - val_loss: 1.2680 - val_accuracy: 0.3905\n",
      "Epoch 15/20\n",
      "634/634 [==============================] - 1s 2ms/step - loss: 1.2981 - accuracy: 0.3933 - val_loss: 1.2680 - val_accuracy: 0.3905\n",
      "Epoch 16/20\n",
      "634/634 [==============================] - 1s 2ms/step - loss: 1.2984 - accuracy: 0.3933 - val_loss: 1.2691 - val_accuracy: 0.3905\n",
      "Epoch 17/20\n",
      "634/634 [==============================] - 1s 2ms/step - loss: 1.2984 - accuracy: 0.3933 - val_loss: 1.2683 - val_accuracy: 0.3905\n",
      "Epoch 18/20\n",
      "634/634 [==============================] - 1s 2ms/step - loss: 1.2982 - accuracy: 0.3933 - val_loss: 1.2680 - val_accuracy: 0.3905\n",
      "Epoch 19/20\n",
      "634/634 [==============================] - 1s 2ms/step - loss: 1.2985 - accuracy: 0.3933 - val_loss: 1.2681 - val_accuracy: 0.3905\n",
      "Epoch 20/20\n",
      "634/634 [==============================] - 1s 2ms/step - loss: 1.2981 - accuracy: 0.3933 - val_loss: 1.2680 - val_accuracy: 0.3905\n"
     ]
    }
   ],
   "source": [
    "history = model.fit(X_train, y_train, batch_size=64, epochs=20, validation_split=0.2)"
   ]
  },
  {
   "cell_type": "code",
   "execution_count": 141,
   "id": "993f144e",
   "metadata": {},
   "outputs": [
    {
     "name": "stdout",
     "output_type": "stream",
     "text": [
      "397/397 - 0s - loss: 1.2832 - accuracy: 0.3988\n"
     ]
    }
   ],
   "source": [
    "test_scores = model.evaluate(X_test, y_test, verbose=2)"
   ]
  },
  {
   "cell_type": "code",
   "execution_count": 134,
   "id": "0858528b",
   "metadata": {},
   "outputs": [
    {
     "data": {
      "text/plain": [
       "array([0, 0, 0, 0, 1, 1, 0, 0, 1, 0, 0, 0, 0, 0, 0, 2, 2, 0, 2, 1, 0, 2,\n",
       "       2, 1, 0])"
      ]
     },
     "execution_count": 134,
     "metadata": {},
     "output_type": "execute_result"
    }
   ],
   "source": [
    "test_input = np.array(\"0 0 0 0 1 1 0 0 1 0 0 0 0 0 0 2 2 0 2 1 0 2 2 1 0\".split(\" \")).astype(int)\n",
    "test_input"
   ]
  },
  {
   "cell_type": "code",
   "execution_count": 135,
   "id": "c4fa8438",
   "metadata": {},
   "outputs": [
    {
     "data": {
      "text/plain": [
       "<tf.Tensor: shape=(1, 1), dtype=float32, numpy=array([[-0.22255683]], dtype=float32)>"
      ]
     },
     "execution_count": 135,
     "metadata": {},
     "output_type": "execute_result"
    }
   ],
   "source": [
    "test_input = np.expand_dims(test_input, axis=0)\n",
    "model(test_input)"
   ]
  },
  {
   "cell_type": "code",
   "execution_count": 136,
   "id": "935b9efd",
   "metadata": {},
   "outputs": [
    {
     "data": {
      "text/plain": [
       "2"
      ]
     },
     "execution_count": 136,
     "metadata": {},
     "output_type": "execute_result"
    }
   ],
   "source": [
    "evaluation(test_input.reshape(5,5), 5)"
   ]
  },
  {
   "cell_type": "code",
   "execution_count": null,
   "id": "99a26763",
   "metadata": {},
   "outputs": [],
   "source": []
  }
 ],
 "metadata": {
  "kernelspec": {
   "display_name": "tf",
   "language": "python",
   "name": "tf"
  },
  "language_info": {
   "codemirror_mode": {
    "name": "ipython",
    "version": 3
   },
   "file_extension": ".py",
   "mimetype": "text/x-python",
   "name": "python",
   "nbconvert_exporter": "python",
   "pygments_lexer": "ipython3",
   "version": "3.9.6"
  }
 },
 "nbformat": 4,
 "nbformat_minor": 5
}
