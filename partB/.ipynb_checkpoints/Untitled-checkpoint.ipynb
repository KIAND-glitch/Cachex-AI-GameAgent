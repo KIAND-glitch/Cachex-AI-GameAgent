{
 "cells": [
  {
   "cell_type": "code",
   "execution_count": 5,
   "id": "517e8fec",
   "metadata": {},
   "outputs": [],
   "source": [
    "import numpy as np"
   ]
  },
  {
   "cell_type": "code",
   "execution_count": 23,
   "id": "911c9840",
   "metadata": {},
   "outputs": [],
   "source": [
    "with open(\"log.txt\") as f:\n",
    "    data = []\n",
    "    lines = f.readlines()\n",
    "    for line in lines[:-1]:\n",
    "        data.append(np.array(line[1:-2].split(\" \")).astype(int))"
   ]
  },
  {
   "cell_type": "code",
   "execution_count": 24,
   "id": "9c3e3c84",
   "metadata": {},
   "outputs": [],
   "source": [
    "data = np.array(data)"
   ]
  },
  {
   "cell_type": "code",
   "execution_count": 25,
   "id": "d9eae2e4",
   "metadata": {},
   "outputs": [
    {
     "data": {
      "text/plain": [
       "(10000, 25)"
      ]
     },
     "execution_count": 25,
     "metadata": {},
     "output_type": "execute_result"
    }
   ],
   "source": [
    "data.shape"
   ]
  },
  {
   "cell_type": "code",
   "execution_count": 29,
   "id": "722f34e8",
   "metadata": {},
   "outputs": [],
   "source": [
    "data = np.unique(data, axis=0)"
   ]
  },
  {
   "cell_type": "code",
   "execution_count": 31,
   "id": "f5459581",
   "metadata": {},
   "outputs": [
    {
     "data": {
      "text/plain": [
       "(9471, 25)"
      ]
     },
     "execution_count": 31,
     "metadata": {},
     "output_type": "execute_result"
    }
   ],
   "source": [
    "data.shape"
   ]
  },
  {
   "cell_type": "code",
   "execution_count": 32,
   "id": "ff4bec6c",
   "metadata": {},
   "outputs": [],
   "source": [
    "from minimax_agent.evaluation import evaluation"
   ]
  },
  {
   "cell_type": "code",
   "execution_count": 33,
   "id": "05e70a2b",
   "metadata": {},
   "outputs": [],
   "source": [
    "score = []\n",
    "for row in enumerate(data):\n",
    "    score.append(evaluation(np.reshape(row, (5,5)), 5))"
   ]
  },
  {
   "cell_type": "code",
   "execution_count": 35,
   "id": "0a0533cf",
   "metadata": {},
   "outputs": [],
   "source": [
    "score = np.array(score)"
   ]
  },
  {
   "cell_type": "code",
   "execution_count": 36,
   "id": "9d5df6e9",
   "metadata": {},
   "outputs": [
    {
     "data": {
      "text/plain": [
       "Counter({1.0: 2406,\n",
       "         0.0: 3601,\n",
       "         2.0: 761,\n",
       "         -1.0: 1741,\n",
       "         -2.0: 434,\n",
       "         4.0: 21,\n",
       "         -inf: 125,\n",
       "         -3.0: 94,\n",
       "         inf: 153,\n",
       "         5.0: 2,\n",
       "         3.0: 122,\n",
       "         -4.0: 11})"
      ]
     },
     "execution_count": 36,
     "metadata": {},
     "output_type": "execute_result"
    }
   ],
   "source": [
    "import collections\n",
    "\n",
    "collections.Counter(score)"
   ]
  },
  {
   "cell_type": "code",
   "execution_count": 37,
   "id": "ecf59864",
   "metadata": {},
   "outputs": [
    {
     "data": {
      "text/plain": [
       "(9471,)"
      ]
     },
     "execution_count": 37,
     "metadata": {},
     "output_type": "execute_result"
    }
   ],
   "source": [
    "score.shape"
   ]
  },
  {
   "cell_type": "code",
   "execution_count": 41,
   "id": "a257ccb7",
   "metadata": {},
   "outputs": [],
   "source": [
    "X = data\n",
    "y = score"
   ]
  },
  {
   "cell_type": "code",
   "execution_count": 42,
   "id": "bbc2ceb7",
   "metadata": {},
   "outputs": [],
   "source": [
    "y = np.where(score==np.inf, 200, y)\n",
    "y = np.where(score==-np.inf, -200, y)"
   ]
  },
  {
   "cell_type": "code",
   "execution_count": 43,
   "id": "b7b4fd9f",
   "metadata": {},
   "outputs": [
    {
     "data": {
      "text/plain": [
       "Counter({1.0: 2406,\n",
       "         0.0: 3601,\n",
       "         2.0: 761,\n",
       "         -1.0: 1741,\n",
       "         -2.0: 434,\n",
       "         4.0: 21,\n",
       "         -200.0: 125,\n",
       "         -3.0: 94,\n",
       "         200.0: 153,\n",
       "         5.0: 2,\n",
       "         3.0: 122,\n",
       "         -4.0: 11})"
      ]
     },
     "execution_count": 43,
     "metadata": {},
     "output_type": "execute_result"
    }
   ],
   "source": [
    "collections.Counter(y)"
   ]
  },
  {
   "cell_type": "code",
   "execution_count": 52,
   "id": "11d16aca",
   "metadata": {},
   "outputs": [
    {
     "name": "stdout",
     "output_type": "stream",
     "text": [
      "(7576, 25)\n",
      "(7576,)\n"
     ]
    }
   ],
   "source": [
    "from sklearn.model_selection import train_test_split\n",
    "\n",
    "X_train, X_test, y_train, y_test = train_test_split(X, y, test_size=0.2, random_state=42)\n",
    "\n",
    "print(X_train.shape)\n",
    "print(y_train.shape)"
   ]
  },
  {
   "cell_type": "code",
   "execution_count": 49,
   "id": "d73aa08c",
   "metadata": {},
   "outputs": [],
   "source": [
    "from tensorflow import keras"
   ]
  },
  {
   "cell_type": "code",
   "execution_count": 54,
   "id": "7ebe2b1a",
   "metadata": {},
   "outputs": [],
   "source": [
    "model = keras.Sequential(\n",
    "    [\n",
    "        keras.Input(shape=(25,)),\n",
    "        keras.layers.Dense(64, activation=\"relu\"),\n",
    "        keras.layers.Dense(32, activation=\"relu\"),\n",
    "        keras.layers.Dense(1)\n",
    "    ]\n",
    ")\n",
    "\n",
    "model.compile(\n",
    "    loss=keras.losses.MeanSquaredError(),\n",
    "    optimizer=keras.optimizers.Adam(learning_rate=0.01),\n",
    "    metrics=[\"accuracy\"],\n",
    ")"
   ]
  },
  {
   "cell_type": "code",
   "execution_count": 56,
   "id": "c841eec7",
   "metadata": {},
   "outputs": [
    {
     "name": "stdout",
     "output_type": "stream",
     "text": [
      "Epoch 1/20\n",
      "95/95 [==============================] - 0s 2ms/step - loss: 1173.9703 - accuracy: 0.3403 - val_loss: 1313.4310 - val_accuracy: 0.3272\n",
      "Epoch 2/20\n",
      "95/95 [==============================] - 0s 2ms/step - loss: 1177.1680 - accuracy: 0.3350 - val_loss: 1319.2147 - val_accuracy: 0.3146\n",
      "Epoch 3/20\n",
      "95/95 [==============================] - 0s 2ms/step - loss: 1174.3668 - accuracy: 0.3252 - val_loss: 1333.8041 - val_accuracy: 0.3094\n",
      "Epoch 4/20\n",
      "95/95 [==============================] - 0s 2ms/step - loss: 1169.4583 - accuracy: 0.3434 - val_loss: 1309.1129 - val_accuracy: 0.3522\n",
      "Epoch 5/20\n",
      "95/95 [==============================] - 0s 2ms/step - loss: 1173.4357 - accuracy: 0.3635 - val_loss: 1314.6310 - val_accuracy: 0.3437\n",
      "Epoch 6/20\n",
      "95/95 [==============================] - 0s 2ms/step - loss: 1166.4299 - accuracy: 0.3617 - val_loss: 1309.1835 - val_accuracy: 0.3503\n",
      "Epoch 7/20\n",
      "95/95 [==============================] - 0s 2ms/step - loss: 1169.5315 - accuracy: 0.3591 - val_loss: 1323.5848 - val_accuracy: 0.2803\n",
      "Epoch 8/20\n",
      "95/95 [==============================] - 0s 2ms/step - loss: 1165.7159 - accuracy: 0.3620 - val_loss: 1320.3695 - val_accuracy: 0.3879\n",
      "Epoch 9/20\n",
      "95/95 [==============================] - 0s 2ms/step - loss: 1182.5811 - accuracy: 0.3820 - val_loss: 1320.3582 - val_accuracy: 0.3879\n",
      "Epoch 10/20\n",
      "95/95 [==============================] - 0s 2ms/step - loss: 1182.1089 - accuracy: 0.3820 - val_loss: 1320.1893 - val_accuracy: 0.3879\n",
      "Epoch 11/20\n",
      "95/95 [==============================] - 0s 2ms/step - loss: 1175.5029 - accuracy: 0.3375 - val_loss: 1313.3195 - val_accuracy: 0.2856\n",
      "Epoch 12/20\n",
      "95/95 [==============================] - 0s 2ms/step - loss: 1170.5706 - accuracy: 0.2843 - val_loss: 1306.1726 - val_accuracy: 0.3358\n",
      "Epoch 13/20\n",
      "95/95 [==============================] - 0s 2ms/step - loss: 1164.0519 - accuracy: 0.2802 - val_loss: 1318.0894 - val_accuracy: 0.2704\n",
      "Epoch 14/20\n",
      "95/95 [==============================] - 0s 2ms/step - loss: 1175.5330 - accuracy: 0.2845 - val_loss: 1307.2083 - val_accuracy: 0.2902\n",
      "Epoch 15/20\n",
      "95/95 [==============================] - 0s 2ms/step - loss: 1171.2708 - accuracy: 0.2761 - val_loss: 1321.6022 - val_accuracy: 0.2625\n",
      "Epoch 16/20\n",
      "95/95 [==============================] - 0s 2ms/step - loss: 1181.5626 - accuracy: 0.2498 - val_loss: 1321.5128 - val_accuracy: 0.2625\n",
      "Epoch 17/20\n",
      "95/95 [==============================] - 0s 2ms/step - loss: 1181.5461 - accuracy: 0.2498 - val_loss: 1321.4576 - val_accuracy: 0.2625\n",
      "Epoch 18/20\n",
      "95/95 [==============================] - 0s 1ms/step - loss: 1181.5386 - accuracy: 0.2498 - val_loss: 1321.2662 - val_accuracy: 0.2619\n",
      "Epoch 19/20\n",
      "95/95 [==============================] - 0s 2ms/step - loss: 1180.5380 - accuracy: 0.3017 - val_loss: 1314.6416 - val_accuracy: 0.3120\n",
      "Epoch 20/20\n",
      "95/95 [==============================] - 0s 1ms/step - loss: 1173.0822 - accuracy: 0.2719 - val_loss: 1305.0889 - val_accuracy: 0.2764\n"
     ]
    }
   ],
   "source": [
    "history = model.fit(X_train, y_train, batch_size=64, epochs=20, validation_split=0.2)"
   ]
  },
  {
   "cell_type": "code",
   "execution_count": 57,
   "id": "32e3b90a",
   "metadata": {},
   "outputs": [
    {
     "name": "stdout",
     "output_type": "stream",
     "text": [
      "60/60 - 0s - loss: 1043.1465 - accuracy: 0.2876\n"
     ]
    }
   ],
   "source": [
    "test_scores = model.evaluate(X_test, y_test, verbose=2)"
   ]
  },
  {
   "cell_type": "code",
   "execution_count": 65,
   "id": "cc9776ce",
   "metadata": {},
   "outputs": [
    {
     "data": {
      "text/plain": [
       "array([1, 1, 0, 2, 2, 1, 0, 2, 0, 1, 2, 2, 2, 1, 1, 1, 2, 2, 1, 0, 2, 2,\n",
       "       1, 0, 2])"
      ]
     },
     "execution_count": 65,
     "metadata": {},
     "output_type": "execute_result"
    }
   ],
   "source": [
    "test_input = np.array(\"2 2 2 0 2 1 1 2 2 1 0 1 1 1 1 1 0 1 1 2 1 2 2 0 1\".split(\" \")).astype(int)\n",
    "test_input"
   ]
  },
  {
   "cell_type": "code",
   "execution_count": 66,
   "id": "9a317e90",
   "metadata": {},
   "outputs": [
    {
     "data": {
      "text/plain": [
       "<tf.Tensor: shape=(1, 1), dtype=float32, numpy=array([[-2.5799909]], dtype=float32)>"
      ]
     },
     "execution_count": 66,
     "metadata": {},
     "output_type": "execute_result"
    }
   ],
   "source": [
    "test_input = np.expand_dims(test_input, axis=0)\n",
    "model(test_input)"
   ]
  },
  {
   "cell_type": "code",
   "execution_count": null,
   "id": "bd653083",
   "metadata": {},
   "outputs": [],
   "source": []
  }
 ],
 "metadata": {
  "kernelspec": {
   "display_name": "tf",
   "language": "python",
   "name": "tf"
  },
  "language_info": {
   "codemirror_mode": {
    "name": "ipython",
    "version": 3
   },
   "file_extension": ".py",
   "mimetype": "text/x-python",
   "name": "python",
   "nbconvert_exporter": "python",
   "pygments_lexer": "ipython3",
   "version": "3.9.6"
  }
 },
 "nbformat": 4,
 "nbformat_minor": 5
}
